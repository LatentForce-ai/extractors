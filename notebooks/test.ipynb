{
 "cells": [
  {
   "cell_type": "code",
   "execution_count": 18,
   "metadata": {},
   "outputs": [],
   "source": [
    "from latentforce_extractors import Extractors"
   ]
  },
  {
   "cell_type": "code",
   "execution_count": 19,
   "metadata": {},
   "outputs": [],
   "source": [
    "client = Extractors(api_key = \"2b34c875-705e-4ef2-b9b1-395b7a5af694\")"
   ]
  },
  {
   "cell_type": "code",
   "execution_count": 20,
   "metadata": {},
   "outputs": [],
   "source": [
    "input_file = client.load_input_file(\"sample.jpg\")"
   ]
  },
  {
   "cell_type": "code",
   "execution_count": 21,
   "metadata": {},
   "outputs": [],
   "source": [
    "inputs = {\n",
    "    \"input_file\" : input_file\n",
    "}\n",
    "\n",
    "extractor_name = \"image-to-excel\"\n",
    "response = client.process(extractor_name = extractor_name, extractor_inputs = inputs)"
   ]
  },
  {
   "cell_type": "code",
   "execution_count": 22,
   "metadata": {},
   "outputs": [
    {
     "data": {
      "text/plain": [
       "{'message': 'Processed Successfully',\n",
       " 'status_code': 200,\n",
       " 'xl_file': 'data:application/vnd.openxmlformats-officedocument.spreadsheetml.sheet;base64,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',\n",
       " 'csv_file': 'data:text/csv;base64,SUQsTmFtZSxDb2xvcixTaXplLENoZWNrb3V0DQoxLFJlZCBQb3BwZXQgSmFja2V0LFJlZCxYTA0KMixDb3dib3kgU2hpcnQsV2hpdGUsU21hbGwNCjMsU2NvdHRpc2ggS2lsdCxCbHVlLEwNCjQsQmFsbGV0IFRpZ2h0cyxXaGl0ZSxNDQo1LEhpa2luZyBQYW50cyxCcm93biw0MixHZW9yZ2UgMy8xNC8xNQ0KNixTa2lydCAtIEJlZXMNCjcsU2tpcnQgLSBEb3RzDQo4LEplYW4gQ29uZHVyYSBKYWNrZXQsQmxhY2ssUw0KOSxKZWFucyxCbGFjayxTDQoxMCxULXNoaXJ0LFJlZCxTDQoxMSxWZXN0LEJsdWUsUw0KMTIsSmFja2V0LEJsdWUgJiBXaGl0ZSxNLDIgTWlzc2luZyA1LzEwLzE1DQoxMyxQb25jaG8sUmVkDQoxNCxQb25jaG8sUmVkICYgU2VxdWlucw0KMTUsRHJlc3MsUmVkLFMNCjE2LENoaW5lc2UgSmFja2V0LEJsdWUsUw0KMTcsQ2hpbmVzZSBKYWNrZXQsQmx1ZSxTDQoxOCxDYXBlLEJsYWNrIFZlbHZldA0KMTksQmx1ZSBSb2JlIG9mIFNub3dmbGFrZQ0KMjANCjIxDQoyMg0KMjMNCjI0DQo=',\n",
       " 'Token_summary': {'completion_tokens': 422,\n",
       "  'prompt_tokens': 585,\n",
       "  'total_tokens': 1007}}"
      ]
     },
     "execution_count": 22,
     "metadata": {},
     "output_type": "execute_result"
    }
   ],
   "source": [
    "response"
   ]
  },
  {
   "cell_type": "code",
   "execution_count": 23,
   "metadata": {},
   "outputs": [
    {
     "name": "stdout",
     "output_type": "stream",
     "text": [
      "Response files saved at sample\n"
     ]
    }
   ],
   "source": [
    "client.save(response = response, extractor_name = extractor_name, output_file_path = \"sample\")"
   ]
  },
  {
   "cell_type": "code",
   "execution_count": null,
   "metadata": {},
   "outputs": [],
   "source": []
  }
 ],
 "metadata": {
  "kernelspec": {
   "display_name": "latentforce",
   "language": "python",
   "name": "python3"
  },
  "language_info": {
   "codemirror_mode": {
    "name": "ipython",
    "version": 3
   },
   "file_extension": ".py",
   "mimetype": "text/x-python",
   "name": "python",
   "nbconvert_exporter": "python",
   "pygments_lexer": "ipython3",
   "version": "3.9.20"
  }
 },
 "nbformat": 4,
 "nbformat_minor": 2
}
